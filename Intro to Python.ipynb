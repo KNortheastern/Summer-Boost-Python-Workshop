{
 "cells": [
  {
   "cell_type": "markdown",
   "id": "c50dbe46",
   "metadata": {},
   "source": [
    "<div class=\"alert alert-block alert-info\">\n",
    "<b>What is this web page?</b>\n",
    "<br>This is an interactive web page called a Jupyter Notebook created for the \"Intro to Python\" workshop at Northeastern University. It contains interactive boxes where you can write and run Python code. The boxes look like this:\n",
    "<br><img style=\"display:inline-block; margin-top:0px\" src=\"Images/Screenshot_CodeCell.png\"/>\n",
    "<br>If you click on one of these boxes, you can type code in it and then run the code by pressing the \"Run\" button (<img style=\"display:inline-block; margin-top:0px\" src=\"Images/Screenshot_Buttons_Run.png\" width=\"20px\"/>). To learn more about how to use Jupyter Notebooks, check out this <a href=\"https://constellate.org/tutorials/getting-started-with-jupyter\">tutorial on Jupyter Notebooks</a>.\n",
    "</div>"
   ]
  },
  {
   "cell_type": "markdown",
   "id": "68e4f8ac",
   "metadata": {},
   "source": [
    "# What is Python?\n",
    "Python is a programming language that allows us to write instructions for a computer. We call these instructions \"code.\"\n",
    "\n",
    "Behind the scenes of our computers, there are millions of lines of code written in many different programming languages that make it possible for us to use them. For example, if you wanted to delete a file called \"untitled.txt\" on your computer, you would probably drag-and-drop that file into your desktop trashcan. When this happens, behind the scenes, a programming language like Python runs a piece of code like this:\n",
    "\n",
    "> os.remove(\"untitled.txt\")\n",
    "\n",
    "This particular line of code gives the computer the instruction to delete the file \"untitled.txt\" by using a \"remove\" function from a bundle of functions called OS (where \"OS\" stands for operating system).\n",
    "\n",
    "Today, we will be writing instructions in Python for the virtual computer inside this Jupyter Notebook."
   ]
  },
  {
   "cell_type": "markdown",
   "id": "0cbe3a05",
   "metadata": {},
   "source": [
    "# What does Python code look like?\n",
    "Python code has two parts:\n",
    "1. Comments\n",
    "2. Code\n",
    "\n",
    "Take a look at the example below. The ```#``` symbol denotes a comment, which contains explanatory notes for us as the reader. The ```1 + 1``` is the actual code and contains the instructions for the computer."
   ]
  },
  {
   "cell_type": "code",
   "execution_count": null,
   "id": "d1979eea",
   "metadata": {},
   "outputs": [],
   "source": [
    "# this is a comment\n",
    "1 + 1"
   ]
  },
  {
   "cell_type": "markdown",
   "id": "5006ed56",
   "metadata": {},
   "source": [
    "To learn more about comments, check out this [tutorial on comments](https://www.w3schools.com/python/python_comments.asp)."
   ]
  },
  {
   "cell_type": "markdown",
   "id": "754b5c3c",
   "metadata": {},
   "source": [
    "# What happens when I make mistakes?\n",
    "At some point, you will make a mistakes while writing your code and your instructions won't make sense to the computer. Helpfully, when you make a mistake, Python will output an error message to try to help you find the problem.\n",
    "\n",
    "Try running the incomplete code below to produce an error:"
   ]
  },
  {
   "cell_type": "code",
   "execution_count": null,
   "id": "03dbfa45",
   "metadata": {},
   "outputs": [],
   "source": [
    "1 +"
   ]
  },
  {
   "cell_type": "markdown",
   "id": "b2886ae8",
   "metadata": {},
   "source": [
    "In the error message above, you can see that Python will try to point you to the exact spot where the error occurred, if it can. Even in cases where it can't, most of the error messages will have intuitive names. Try the error-producing code below:"
   ]
  },
  {
   "cell_type": "code",
   "execution_count": null,
   "id": "01122af9",
   "metadata": {},
   "outputs": [],
   "source": [
    "1 / 0"
   ]
  },
  {
   "cell_type": "markdown",
   "id": "011b24e1",
   "metadata": {},
   "source": [
    "In the error message above, you can see how the name \"ZeroDivisionError\" and the error description \"division by zero\" could help you identify that the error is caused by incorrectly trying to divide by zero.\n",
    "\n",
    "However, there will inevitably be error messages that you don't understand right away. In these cases, it is a good idea to do a Google search of the error message and look at ways that other people have solved similar issues in their code.\n",
    "\n",
    "To learn more about troubleshooting errors, check out this [article on errors](https://www.codecademy.com/resources/blog/errors-in-code-think-differently/)."
   ]
  },
  {
   "cell_type": "markdown",
   "id": "51124159",
   "metadata": {},
   "source": [
    "# What can I do with Python?\n",
    "Python can do four main things:\n",
    "1. Basic operations\n",
    "1. Save variables\n",
    "1. Built-in functions\n",
    "1. Custom functions"
   ]
  },
  {
   "cell_type": "markdown",
   "id": "e748baf2",
   "metadata": {},
   "source": [
    "## 1. Basic operations\n",
    "The simplest thing you can do in Python is use basic operators (such as ``+``,``-``,``*``, or ``/``) to do calculator math. As an example, try running the code below:"
   ]
  },
  {
   "cell_type": "code",
   "execution_count": null,
   "id": "d8605084",
   "metadata": {},
   "outputs": [],
   "source": [
    "1 + 1"
   ]
  },
  {
   "cell_type": "markdown",
   "id": "096e3a4c",
   "metadata": {},
   "source": [
    "You should see an output appear with the answer. Note that spaces do not matter here, you could write ``1+1``, ``1 + 1``, or even ``1+ 1`` and all of them will run successfully.\n",
    "\n",
    "Try writing and running your own basic operation here:"
   ]
  },
  {
   "cell_type": "code",
   "execution_count": null,
   "id": "98132edd",
   "metadata": {},
   "outputs": [],
   "source": [
    "# try your own basic operation here"
   ]
  },
  {
   "cell_type": "markdown",
   "id": "4ae6a8e9",
   "metadata": {},
   "source": [
    "There are also more advanced operators, such as those used to make comparisons. These return an output of \"True\" or \"False\" depending on whether or not the comparison is true. These comparison operators include:\n",
    "* ``>`` greater than\n",
    "* ``<`` less than\n",
    "* ``>=`` greater than or equal to\n",
    "* ``<=`` less than or equal to\n",
    "* ``==`` equal to\n",
    "\n",
    "As an example, try running the code below:"
   ]
  },
  {
   "cell_type": "code",
   "execution_count": null,
   "id": "310ef7c5",
   "metadata": {},
   "outputs": [],
   "source": [
    "1 < 4"
   ]
  },
  {
   "cell_type": "markdown",
   "id": "3de1590a",
   "metadata": {},
   "source": [
    "The output here is \"True\" because 1 *is* less than 4.\n",
    "\n",
    "To learn more about operators, check out this [list of Python operators](https://www.w3schools.com/python/python_operators.asp)."
   ]
  },
  {
   "cell_type": "markdown",
   "id": "9b78a0a3",
   "metadata": {},
   "source": [
    "## 2. Save Variables\n",
    "Python allows you to create and name containers that you can store your data in. These containers are called [variables](https://www.w3schools.com/python/python_variables.asp). You can name your variable just about anything you want, but the name must follow these rules:\n",
    "* must contain only letters, numbers, and _ (e.g. cannot contain spaces or symbols like #)\n",
    "* can't start with a number\n",
    "* is case sensitive (e.g. number, Number, and NUMBER are three different variables)\n",
    "\n",
    "For example, try running the code below that creates a variable called ```myNumber``` and sets its initial value equal to 1."
   ]
  },
  {
   "cell_type": "code",
   "execution_count": null,
   "id": "f6096ff0",
   "metadata": {},
   "outputs": [],
   "source": [
    "myNumber = 1"
   ]
  },
  {
   "cell_type": "markdown",
   "id": "69c26fbe",
   "metadata": {},
   "source": [
    "A line of code like this that uses the ```=``` operator is called an assignment statement and sets the value of a variable. Now that the value has been set, try using the variable in the code below: "
   ]
  },
  {
   "cell_type": "code",
   "execution_count": null,
   "id": "40d099d1",
   "metadata": {},
   "outputs": [],
   "source": [
    "myNumber * 10"
   ]
  },
  {
   "cell_type": "markdown",
   "id": "a3dd506d",
   "metadata": {},
   "source": [
    "You can also update the value of your ``myNumber`` variable by changing the number in the ``myNumber = 1`` code and running it again. Try setting ``myNumber`` equal to a new value and running your ``myNumber * 10`` equation again. Notice how the output changes.\n",
    "\n",
    "To learn more about variables, check out this [guide to variable names](https://www.w3schools.com/python/python_variables_names.asp)."
   ]
  },
  {
   "cell_type": "markdown",
   "id": "5ddd4252",
   "metadata": {},
   "source": [
    "## 3. Built-in Functions\n",
    "A function is a command in Python that executes a set of pre-written instructions, without you having to write them out each time. You give the function an input and the function runs its instructions and gives you back an output. \n",
    "\n",
    "Python has many built-in functions, including the following for popular math equations:\n",
    "* ``abs(x)`` returns the absolute value of x\n",
    "* ``round(x)`` rounds x\n",
    "* ``pow(x,y)`` returns the value of x to the power of y\n",
    "\n",
    "As an example, try running the code below:"
   ]
  },
  {
   "cell_type": "code",
   "execution_count": null,
   "id": "7112c240",
   "metadata": {},
   "outputs": [],
   "source": [
    "abs(-1)"
   ]
  },
  {
   "cell_type": "markdown",
   "id": "87e16adb",
   "metadata": {},
   "source": [
    "Now try running your own built-in function example here:"
   ]
  },
  {
   "cell_type": "code",
   "execution_count": null,
   "id": "3a6c1244",
   "metadata": {},
   "outputs": [],
   "source": [
    "# try running your own built-in function example here"
   ]
  },
  {
   "cell_type": "markdown",
   "id": "547f6683",
   "metadata": {},
   "source": [
    "To learn more about built-in functions, check out this [list of built-in Python functions](https://www.w3schools.com/python/python_ref_functions.asp)."
   ]
  },
  {
   "cell_type": "markdown",
   "id": "007221b4",
   "metadata": {},
   "source": [
    "## 4. Custom Functions\n",
    "You can also name and write your own custom functions with pre-written instructions that can be saved and used later. \n",
    "\n",
    "For example, see this function that adds one to a number:"
   ]
  },
  {
   "cell_type": "code",
   "execution_count": null,
   "id": "18e42863",
   "metadata": {},
   "outputs": [],
   "source": [
    "def addOne(someInputNumber):\n",
    "    outputNumber = someInputNumber + 1\n",
    "    return outputNumber"
   ]
  },
  {
   "cell_type": "markdown",
   "id": "77038b3f",
   "metadata": {},
   "source": [
    "Try using this function to add 1 to the number 10 by running ``addOne(10)`` below:"
   ]
  },
  {
   "cell_type": "code",
   "execution_count": null,
   "id": "cb9308cc",
   "metadata": {},
   "outputs": [],
   "source": [
    "addOne(10)"
   ]
  },
  {
   "cell_type": "markdown",
   "id": "4bd16798",
   "metadata": {},
   "source": [
    "To learn more about custom functions, check out this [guide to Python functions](https://www.w3schools.com/python/python_functions.asp)."
   ]
  },
  {
   "cell_type": "markdown",
   "id": "293a929e",
   "metadata": {},
   "source": [
    "# How do I use custom functions written by someone else?\n",
    "Custom Python code written by other people is available to download from the internet as bundles of script files (``.py``) called packages or libraries. The two terms are frequently used interchangeably but, technically, a package is a bundle of script files and a library is a bundle of packages. You can download both the same way.\n",
    "\n",
    "In general, there are four steps to using a package:\n",
    "1. Look up the documentation.\n",
    "1. Install the package.\n",
    "1. Import the package.\n",
    "1. Use the package.\n",
    "\n",
    "We are going to run through an example of these steps using a package called \"Seaborn\" that is frequently used for data visualization."
   ]
  },
  {
   "cell_type": "markdown",
   "id": "f7c9e641",
   "metadata": {},
   "source": [
    "## 1. Look up the documentation\n",
    "\n",
    "Every package of custom code should come with a user's manual called the \"documentation.\" When you know the name of the package that you would like to use, you can find the documentation by Googling the package name plus \"documentation.\"\n",
    "\n",
    "For example, Googling \"Seaborn documentation\" will lead you to [Seaborn's documentation page](https://seaborn.pydata.org/)."
   ]
  },
  {
   "cell_type": "markdown",
   "id": "403e208c",
   "metadata": {},
   "source": [
    "## 2. Install the package.\n",
    "After finding the documentation, you can look at the [installation page](https://seaborn.pydata.org/installing.html) to find out how to install the package. Most of the time, you will see instructions for using the two most popular tools for installing packages called \"package managers\":\n",
    "* ``pip`` which downloads and installs packages from [The Python Package Index (PyPI)](https://pypi.org/)\n",
    "* ``conda`` which downloads and installs packages from [Anaconda.org](https://anaconda.org/)\n",
    "\n",
    "Because pip now comes with any installation of Python, we will use pip. To install a package using pip, you would run a line of code in your [command line](https://www.codecademy.com/article/command-line-interface) like this:\n",
    "> pip install seaborn\n",
    "\n",
    "For today's workshop, we can do this in a normal code box by adding \"!\" at the beginning of our code to tell the virtual computer that this is command line code. However, if you were using your own computer, you would not be running this code in the same place you run the rest of your Python code -- you would need to enter this code in your command line and do so without the \"!\".\n",
    "\n",
    "\n"
   ]
  },
  {
   "cell_type": "code",
   "execution_count": null,
   "id": "6ada9c82",
   "metadata": {},
   "outputs": [],
   "source": [
    "!pip install Seaborn"
   ]
  },
  {
   "cell_type": "markdown",
   "id": "51974034",
   "metadata": {},
   "source": [
    "To learn more about installing packages, check out this [installing packages tutorial](https://packaging.python.org/en/latest/tutorials/installing-packages/)."
   ]
  },
  {
   "cell_type": "markdown",
   "id": "ae86ee63",
   "metadata": {},
   "source": [
    "## 3. Load the package.\n",
    "After installing the package, you can look at the installation page or [Quickstart guide](https://seaborn.pydata.org/installing.html#quickstart) to find out how to import the package. You can import a package by using the ``import`` command and the package name, like so:"
   ]
  },
  {
   "cell_type": "code",
   "execution_count": null,
   "id": "db855e4c",
   "metadata": {},
   "outputs": [],
   "source": [
    "import seaborn"
   ]
  },
  {
   "cell_type": "markdown",
   "id": "9c8504f7",
   "metadata": {},
   "source": [
    "However, many packages are imported and given a shorthand name or \"alias\" when they are imported to make referring to them more concise. The documentation will tell you what the shorthand name is.\n",
    "\n",
    "For Seaborn, the abbreviated name is \"sns\" and it can be assigned like so:"
   ]
  },
  {
   "cell_type": "code",
   "execution_count": null,
   "id": "fac96651",
   "metadata": {},
   "outputs": [],
   "source": [
    "import seaborn as sns"
   ]
  },
  {
   "cell_type": "markdown",
   "id": "300fe132",
   "metadata": {},
   "source": [
    "To learn more about importing, check out this [modules tutorial](https://www.w3schools.com/python/python_modules.asp)."
   ]
  },
  {
   "cell_type": "markdown",
   "id": "a7d97ef1",
   "metadata": {},
   "source": [
    "## 4. Use the package.\n",
    "After loading the package, you are ready to start using it and you can look at pages such as the [introduction page of the documentation](https://seaborn.pydata.org/introduction.html) for tips. For example, Seaborn's documentation offers the following example that you can copy-paste:\n"
   ]
  },
  {
   "cell_type": "code",
   "execution_count": null,
   "id": "86f785e3",
   "metadata": {},
   "outputs": [],
   "source": [
    "# Apply the default theme\n",
    "sns.set_theme()\n",
    "\n",
    "# Load an example dataset\n",
    "tips = sns.load_dataset(\"tips\")\n",
    "\n",
    "# Create a visualization\n",
    "sns.relplot(\n",
    "    data=tips,\n",
    "    x=\"total_bill\", y=\"tip\", col=\"time\",\n",
    "    hue=\"smoker\", style=\"smoker\", size=\"size\",\n",
    ")"
   ]
  },
  {
   "cell_type": "markdown",
   "id": "c01c5f4e",
   "metadata": {},
   "source": [
    "You could then learn more about the package either by reading more about the functions used in this introduction example (such as [relplot](https://seaborn.pydata.org/generated/seaborn.relplot.html#seaborn.relplot)), or you could work through other examples that you find in the [tutorials](https://seaborn.pydata.org/tutorial.html) or\n",
    "the [example gallery](https://seaborn.pydata.org/examples/index.html) pages."
   ]
  },
  {
   "cell_type": "markdown",
   "id": "d2f200cf",
   "metadata": {},
   "source": [
    "# What's next?\n",
    "If you haven't already, you will want to:\n",
    "1. Install [Python](https://www.python.org/downloads/).\n",
    "1. Install a program to write Python in. <br> These programs are called integrated development environments or \"IDEs.\" When you install Python, it comes with a very basic IDE called IDLE. However, most people download a more advanced IDE to code in. If you are going to use Python for a course or research, we recommend checking with your instructor or advisor to see which IDE they recommend. If you are using Python independently, check out this [guide to Python IDEs](https://realpython.com/python-ides-code-editors-guide/) for more information on choosing an IDE.\n",
    "\n",
    "After that, you can continue coding on your own computer and learn more using resources such as:\n",
    "* [W3 School's Python resources](https://www.w3schools.com/python/default.asp) as a tutorial or as a resource to look up new concepts\n",
    "* [Constellate's Python tutorials](https://constellate.org/tutorials) for more interactive Jupyter Notebook Python tutorials\n",
    "* eBooks from Northeastern University's library, such as [Python Crash Course](https://onesearch.library.northeastern.edu/permalink/01NEU_INST/1uhbfkj/alma9951756876401401), [Head First Python](https://onesearch.library.northeastern.edu/permalink/01NEU_INST/1uhbfkj/alma9952081947701401) , or [Think Python](https://onesearch.library.northeastern.edu/permalink/01NEU_INST/1uhbfkj/alma9952079913801401)\n",
    "* [Python Graph Gallery](https://www.python-graph-gallery.com/) for examples of different graph types\n",
    "\n"
   ]
  }
 ],
 "metadata": {
  "kernelspec": {
   "display_name": "Python 3 (ipykernel)",
   "language": "python",
   "name": "python3"
  },
  "language_info": {
   "codemirror_mode": {
    "name": "ipython",
    "version": 3
   },
   "file_extension": ".py",
   "mimetype": "text/x-python",
   "name": "python",
   "nbconvert_exporter": "python",
   "pygments_lexer": "ipython3",
   "version": "3.9.2"
  },
  "toc": {
   "base_numbering": 1,
   "nav_menu": {},
   "number_sections": false,
   "sideBar": true,
   "skip_h1_title": false,
   "title_cell": "Table of Contents",
   "title_sidebar": "Contents",
   "toc_cell": false,
   "toc_position": {
    "height": "584px",
    "left": "173px",
    "top": "212.141px",
    "width": "165px"
   },
   "toc_section_display": true,
   "toc_window_display": false
  }
 },
 "nbformat": 4,
 "nbformat_minor": 5
}
